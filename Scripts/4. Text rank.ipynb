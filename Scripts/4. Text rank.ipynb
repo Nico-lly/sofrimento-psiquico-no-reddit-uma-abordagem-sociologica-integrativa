{
  "cells": [
    {
      "cell_type": "code",
      "execution_count": null,
      "metadata": {
        "colab": {
          "base_uri": "https://localhost:8080/"
        },
        "id": "hOPMmY9tkk1m",
        "outputId": "0476ad0e-fd0b-4bb9-db94-44b61e4e6fb2"
      },
      "outputs": [
        {
          "output_type": "stream",
          "name": "stdout",
          "text": [
            "Requirement already satisfied: networkx in /usr/local/lib/python3.10/dist-packages (3.1)\n"
          ]
        }
      ],
      "source": [
        "!pip install networkx"
      ]
    },
    {
      "cell_type": "code",
      "execution_count": null,
      "metadata": {
        "id": "T2Z7NOGtrEdx"
      },
      "outputs": [],
      "source": [
        "import pandas as pd\n",
        "import numpy as np\n",
        "from collections import OrderedDict\n",
        "import ast"
      ]
    },
    {
      "cell_type": "markdown",
      "metadata": {
        "id": "S9K_gRLUr2BT"
      },
      "source": [
        "### Ler arquivo"
      ]
    },
    {
      "cell_type": "code",
      "execution_count": null,
      "metadata": {
        "colab": {
          "base_uri": "https://localhost:8080/"
        },
        "id": "QR-EJUeKyXTF",
        "outputId": "9fd1d30c-fcc4-4c48-cbc2-8004d5bbc32f"
      },
      "outputs": [
        {
          "output_type": "stream",
          "name": "stdout",
          "text": [
            "Mounted at /content/drive\n"
          ]
        }
      ],
      "source": [
        "from google.colab import drive\n",
        "drive.mount('/content/drive')"
      ]
    },
    {
      "cell_type": "code",
      "execution_count": null,
      "metadata": {
        "id": "mBJ4MvhlrYZ-"
      },
      "outputs": [],
      "source": [
        "arquivo = '/content/drive/MyDrive/tcc/bases_de_dados/bases_tratadas/base_preprocessada.csv'\n",
        "df_depressed = pd.read_csv(arquivo, sep = ',', encoding = 'utf-8')"
      ]
    },
    {
      "cell_type": "code",
      "execution_count": null,
      "metadata": {
        "id": "YAI1QDydrbmG"
      },
      "outputs": [],
      "source": [
        "df_depressed['clean_text'] = df_depressed['clean_text'].apply(ast.literal_eval)\n",
        "#df_depressed['clean_text'] = df_depressed['clean_text'].apply(lambda x: ' '.join(x))"
      ]
    },
    {
      "cell_type": "code",
      "execution_count": null,
      "metadata": {
        "colab": {
          "base_uri": "https://localhost:8080/",
          "height": 147
        },
        "id": "Qzekr6diuKXV",
        "outputId": "46b0bcd1-c98f-45ba-b771-fab0a71016a7"
      },
      "outputs": [
        {
          "output_type": "execute_result",
          "data": {
            "text/plain": [
              "   coments       created         id  \\\n",
              "0    118.0  1.610661e+09  t3_kxfnzb   \n",
              "1    808.0  1.658598e+09  t3_w69jxb   \n",
              "\n",
              "                                            selftext  \\\n",
              "0  Olá, meu nome é Gabriel, tenho 18 anos e moro ...   \n",
              "1  Em 2019 reencontrei minha primeira namorada, v...   \n",
              "\n",
              "                                        title      up  \\\n",
              "0  Hoje é o dia mais sombrio da minha cidade.  1850.0   \n",
              "1  Meu casamento me destruiu financeiramente.  1558.0   \n",
              "\n",
              "                                           full_text  qtd_term  \\\n",
              "0  ['hoje', 'e', 'o', 'dia', 'mais', 'sombrio', '...         6   \n",
              "1  ['meu', 'casamento', 'me', 'destruiu', 'financ...         6   \n",
              "\n",
              "                                          clean_text  \n",
              "0  [dia, sombrio, cidade, nome, ano, morar, manau...  \n",
              "1  [casamento, primeiro, ano, relacionamento, pat...  "
            ],
            "text/html": [
              "\n",
              "  <div id=\"df-a396f9f2-23e5-4f5d-954d-cb134cb12f66\" class=\"colab-df-container\">\n",
              "    <div>\n",
              "<style scoped>\n",
              "    .dataframe tbody tr th:only-of-type {\n",
              "        vertical-align: middle;\n",
              "    }\n",
              "\n",
              "    .dataframe tbody tr th {\n",
              "        vertical-align: top;\n",
              "    }\n",
              "\n",
              "    .dataframe thead th {\n",
              "        text-align: right;\n",
              "    }\n",
              "</style>\n",
              "<table border=\"1\" class=\"dataframe\">\n",
              "  <thead>\n",
              "    <tr style=\"text-align: right;\">\n",
              "      <th></th>\n",
              "      <th>coments</th>\n",
              "      <th>created</th>\n",
              "      <th>id</th>\n",
              "      <th>selftext</th>\n",
              "      <th>title</th>\n",
              "      <th>up</th>\n",
              "      <th>full_text</th>\n",
              "      <th>qtd_term</th>\n",
              "      <th>clean_text</th>\n",
              "    </tr>\n",
              "  </thead>\n",
              "  <tbody>\n",
              "    <tr>\n",
              "      <th>0</th>\n",
              "      <td>118.0</td>\n",
              "      <td>1.610661e+09</td>\n",
              "      <td>t3_kxfnzb</td>\n",
              "      <td>Olá, meu nome é Gabriel, tenho 18 anos e moro ...</td>\n",
              "      <td>Hoje é o dia mais sombrio da minha cidade.</td>\n",
              "      <td>1850.0</td>\n",
              "      <td>['hoje', 'e', 'o', 'dia', 'mais', 'sombrio', '...</td>\n",
              "      <td>6</td>\n",
              "      <td>[dia, sombrio, cidade, nome, ano, morar, manau...</td>\n",
              "    </tr>\n",
              "    <tr>\n",
              "      <th>1</th>\n",
              "      <td>808.0</td>\n",
              "      <td>1.658598e+09</td>\n",
              "      <td>t3_w69jxb</td>\n",
              "      <td>Em 2019 reencontrei minha primeira namorada, v...</td>\n",
              "      <td>Meu casamento me destruiu financeiramente.</td>\n",
              "      <td>1558.0</td>\n",
              "      <td>['meu', 'casamento', 'me', 'destruiu', 'financ...</td>\n",
              "      <td>6</td>\n",
              "      <td>[casamento, primeiro, ano, relacionamento, pat...</td>\n",
              "    </tr>\n",
              "  </tbody>\n",
              "</table>\n",
              "</div>\n",
              "    <div class=\"colab-df-buttons\">\n",
              "\n",
              "  <div class=\"colab-df-container\">\n",
              "    <button class=\"colab-df-convert\" onclick=\"convertToInteractive('df-a396f9f2-23e5-4f5d-954d-cb134cb12f66')\"\n",
              "            title=\"Convert this dataframe to an interactive table.\"\n",
              "            style=\"display:none;\">\n",
              "\n",
              "  <svg xmlns=\"http://www.w3.org/2000/svg\" height=\"24px\" viewBox=\"0 -960 960 960\">\n",
              "    <path d=\"M120-120v-720h720v720H120Zm60-500h600v-160H180v160Zm220 220h160v-160H400v160Zm0 220h160v-160H400v160ZM180-400h160v-160H180v160Zm440 0h160v-160H620v160ZM180-180h160v-160H180v160Zm440 0h160v-160H620v160Z\"/>\n",
              "  </svg>\n",
              "    </button>\n",
              "\n",
              "  <style>\n",
              "    .colab-df-container {\n",
              "      display:flex;\n",
              "      gap: 12px;\n",
              "    }\n",
              "\n",
              "    .colab-df-convert {\n",
              "      background-color: #E8F0FE;\n",
              "      border: none;\n",
              "      border-radius: 50%;\n",
              "      cursor: pointer;\n",
              "      display: none;\n",
              "      fill: #1967D2;\n",
              "      height: 32px;\n",
              "      padding: 0 0 0 0;\n",
              "      width: 32px;\n",
              "    }\n",
              "\n",
              "    .colab-df-convert:hover {\n",
              "      background-color: #E2EBFA;\n",
              "      box-shadow: 0px 1px 2px rgba(60, 64, 67, 0.3), 0px 1px 3px 1px rgba(60, 64, 67, 0.15);\n",
              "      fill: #174EA6;\n",
              "    }\n",
              "\n",
              "    .colab-df-buttons div {\n",
              "      margin-bottom: 4px;\n",
              "    }\n",
              "\n",
              "    [theme=dark] .colab-df-convert {\n",
              "      background-color: #3B4455;\n",
              "      fill: #D2E3FC;\n",
              "    }\n",
              "\n",
              "    [theme=dark] .colab-df-convert:hover {\n",
              "      background-color: #434B5C;\n",
              "      box-shadow: 0px 1px 3px 1px rgba(0, 0, 0, 0.15);\n",
              "      filter: drop-shadow(0px 1px 2px rgba(0, 0, 0, 0.3));\n",
              "      fill: #FFFFFF;\n",
              "    }\n",
              "  </style>\n",
              "\n",
              "    <script>\n",
              "      const buttonEl =\n",
              "        document.querySelector('#df-a396f9f2-23e5-4f5d-954d-cb134cb12f66 button.colab-df-convert');\n",
              "      buttonEl.style.display =\n",
              "        google.colab.kernel.accessAllowed ? 'block' : 'none';\n",
              "\n",
              "      async function convertToInteractive(key) {\n",
              "        const element = document.querySelector('#df-a396f9f2-23e5-4f5d-954d-cb134cb12f66');\n",
              "        const dataTable =\n",
              "          await google.colab.kernel.invokeFunction('convertToInteractive',\n",
              "                                                    [key], {});\n",
              "        if (!dataTable) return;\n",
              "\n",
              "        const docLinkHtml = 'Like what you see? Visit the ' +\n",
              "          '<a target=\"_blank\" href=https://colab.research.google.com/notebooks/data_table.ipynb>data table notebook</a>'\n",
              "          + ' to learn more about interactive tables.';\n",
              "        element.innerHTML = '';\n",
              "        dataTable['output_type'] = 'display_data';\n",
              "        await google.colab.output.renderOutput(dataTable, element);\n",
              "        const docLink = document.createElement('div');\n",
              "        docLink.innerHTML = docLinkHtml;\n",
              "        element.appendChild(docLink);\n",
              "      }\n",
              "    </script>\n",
              "  </div>\n",
              "\n",
              "\n",
              "<div id=\"df-098c2906-e1a0-445a-bab1-122fe1366928\">\n",
              "  <button class=\"colab-df-quickchart\" onclick=\"quickchart('df-098c2906-e1a0-445a-bab1-122fe1366928')\"\n",
              "            title=\"Suggest charts.\"\n",
              "            style=\"display:none;\">\n",
              "\n",
              "<svg xmlns=\"http://www.w3.org/2000/svg\" height=\"24px\"viewBox=\"0 0 24 24\"\n",
              "     width=\"24px\">\n",
              "    <g>\n",
              "        <path d=\"M19 3H5c-1.1 0-2 .9-2 2v14c0 1.1.9 2 2 2h14c1.1 0 2-.9 2-2V5c0-1.1-.9-2-2-2zM9 17H7v-7h2v7zm4 0h-2V7h2v10zm4 0h-2v-4h2v4z\"/>\n",
              "    </g>\n",
              "</svg>\n",
              "  </button>\n",
              "\n",
              "<style>\n",
              "  .colab-df-quickchart {\n",
              "      --bg-color: #E8F0FE;\n",
              "      --fill-color: #1967D2;\n",
              "      --hover-bg-color: #E2EBFA;\n",
              "      --hover-fill-color: #174EA6;\n",
              "      --disabled-fill-color: #AAA;\n",
              "      --disabled-bg-color: #DDD;\n",
              "  }\n",
              "\n",
              "  [theme=dark] .colab-df-quickchart {\n",
              "      --bg-color: #3B4455;\n",
              "      --fill-color: #D2E3FC;\n",
              "      --hover-bg-color: #434B5C;\n",
              "      --hover-fill-color: #FFFFFF;\n",
              "      --disabled-bg-color: #3B4455;\n",
              "      --disabled-fill-color: #666;\n",
              "  }\n",
              "\n",
              "  .colab-df-quickchart {\n",
              "    background-color: var(--bg-color);\n",
              "    border: none;\n",
              "    border-radius: 50%;\n",
              "    cursor: pointer;\n",
              "    display: none;\n",
              "    fill: var(--fill-color);\n",
              "    height: 32px;\n",
              "    padding: 0;\n",
              "    width: 32px;\n",
              "  }\n",
              "\n",
              "  .colab-df-quickchart:hover {\n",
              "    background-color: var(--hover-bg-color);\n",
              "    box-shadow: 0 1px 2px rgba(60, 64, 67, 0.3), 0 1px 3px 1px rgba(60, 64, 67, 0.15);\n",
              "    fill: var(--button-hover-fill-color);\n",
              "  }\n",
              "\n",
              "  .colab-df-quickchart-complete:disabled,\n",
              "  .colab-df-quickchart-complete:disabled:hover {\n",
              "    background-color: var(--disabled-bg-color);\n",
              "    fill: var(--disabled-fill-color);\n",
              "    box-shadow: none;\n",
              "  }\n",
              "\n",
              "  .colab-df-spinner {\n",
              "    border: 2px solid var(--fill-color);\n",
              "    border-color: transparent;\n",
              "    border-bottom-color: var(--fill-color);\n",
              "    animation:\n",
              "      spin 1s steps(1) infinite;\n",
              "  }\n",
              "\n",
              "  @keyframes spin {\n",
              "    0% {\n",
              "      border-color: transparent;\n",
              "      border-bottom-color: var(--fill-color);\n",
              "      border-left-color: var(--fill-color);\n",
              "    }\n",
              "    20% {\n",
              "      border-color: transparent;\n",
              "      border-left-color: var(--fill-color);\n",
              "      border-top-color: var(--fill-color);\n",
              "    }\n",
              "    30% {\n",
              "      border-color: transparent;\n",
              "      border-left-color: var(--fill-color);\n",
              "      border-top-color: var(--fill-color);\n",
              "      border-right-color: var(--fill-color);\n",
              "    }\n",
              "    40% {\n",
              "      border-color: transparent;\n",
              "      border-right-color: var(--fill-color);\n",
              "      border-top-color: var(--fill-color);\n",
              "    }\n",
              "    60% {\n",
              "      border-color: transparent;\n",
              "      border-right-color: var(--fill-color);\n",
              "    }\n",
              "    80% {\n",
              "      border-color: transparent;\n",
              "      border-right-color: var(--fill-color);\n",
              "      border-bottom-color: var(--fill-color);\n",
              "    }\n",
              "    90% {\n",
              "      border-color: transparent;\n",
              "      border-bottom-color: var(--fill-color);\n",
              "    }\n",
              "  }\n",
              "</style>\n",
              "\n",
              "  <script>\n",
              "    async function quickchart(key) {\n",
              "      const quickchartButtonEl =\n",
              "        document.querySelector('#' + key + ' button');\n",
              "      quickchartButtonEl.disabled = true;  // To prevent multiple clicks.\n",
              "      quickchartButtonEl.classList.add('colab-df-spinner');\n",
              "      try {\n",
              "        const charts = await google.colab.kernel.invokeFunction(\n",
              "            'suggestCharts', [key], {});\n",
              "      } catch (error) {\n",
              "        console.error('Error during call to suggestCharts:', error);\n",
              "      }\n",
              "      quickchartButtonEl.classList.remove('colab-df-spinner');\n",
              "      quickchartButtonEl.classList.add('colab-df-quickchart-complete');\n",
              "    }\n",
              "    (() => {\n",
              "      let quickchartButtonEl =\n",
              "        document.querySelector('#df-098c2906-e1a0-445a-bab1-122fe1366928 button');\n",
              "      quickchartButtonEl.style.display =\n",
              "        google.colab.kernel.accessAllowed ? 'block' : 'none';\n",
              "    })();\n",
              "  </script>\n",
              "</div>\n",
              "    </div>\n",
              "  </div>\n"
            ]
          },
          "metadata": {},
          "execution_count": 6
        }
      ],
      "source": [
        "df_depressed.head(2)"
      ]
    },
    {
      "cell_type": "markdown",
      "metadata": {
        "id": "69UMw5L0slf2"
      },
      "source": [
        "### text graph rank para encontrar as palavras mais significativas por texto"
      ]
    },
    {
      "cell_type": "code",
      "execution_count": null,
      "metadata": {
        "id": "6bjv8qgv-71m"
      },
      "outputs": [],
      "source": [
        "def get_vocab(topics_text):\n",
        "  \"\"\"Get all tokens\"\"\"\n",
        "  vocab_list = []\n",
        "  for text in topics_text:\n",
        "    vocab = OrderedDict()\n",
        "    i = 0\n",
        "    for word in text:\n",
        "        if word not in vocab:\n",
        "            vocab[word] = i\n",
        "            i += 1\n",
        "    vocab_list.append(vocab)\n",
        "  return vocab_list"
      ]
    },
    {
      "cell_type": "code",
      "execution_count": null,
      "metadata": {
        "id": "cnYbz8qIib6J"
      },
      "outputs": [],
      "source": [
        "def get_token_pairs(window_size, texts):\n",
        "  \"\"\"Build token_pairs from windows in texts\"\"\"\n",
        "  tokens_list = []\n",
        "  for text in texts:\n",
        "    token_pairs = []\n",
        "    for i, word in enumerate(text):\n",
        "        for j in range(i+1, i+window_size):\n",
        "            if j >= len(text):\n",
        "                break\n",
        "            pair = (word, text[j])\n",
        "            if pair not in token_pairs:\n",
        "                token_pairs.append(pair)\n",
        "    tokens_list.append(token_pairs)\n",
        "  return tokens_list"
      ]
    },
    {
      "cell_type": "code",
      "execution_count": null,
      "metadata": {
        "id": "Pow_OXDaJBMN"
      },
      "outputs": [],
      "source": [
        "def get_matrix(vocab_list, tokens_list):\n",
        "  \"\"\"Get normalized matrix\"\"\"\n",
        "  # Build matrix\n",
        "  matrix_list = []\n",
        "  for index, vocab in enumerate(vocab_list):\n",
        "    vocab_size = len(vocab)\n",
        "    matrix = np.zeros((vocab_size, vocab_size), dtype='float')\n",
        "    for word1, word2 in tokens_list[index]:\n",
        "        i, j = vocab[word1], vocab[word2]\n",
        "        matrix[i][j] = 1\n",
        "\n",
        "    # Get Symmeric matrix\n",
        "    matrix = matrix + matrix.T - np.diag(matrix.diagonal())\n",
        "\n",
        "    # Normalize matrix by column\n",
        "    norm = np.sum(matrix, axis=0)\n",
        "    matrix_norm = np.divide(matrix, norm, where=norm!=0) # this is ignore the 0 element in norm\n",
        "    matrix_list.append(matrix_norm)\n",
        "  return matrix_list"
      ]
    },
    {
      "cell_type": "code",
      "execution_count": null,
      "metadata": {
        "id": "ByC9c_eng4OI"
      },
      "outputs": [],
      "source": [
        "# Iteration\n",
        "def epoch_interation(vocab_list, matrix_list, steps, damping, min_diff):\n",
        "  score_matrix_list = []\n",
        "  for index, vocab in enumerate(vocab_list):\n",
        "    score_matrix = np.array([1] * len(vocab))\n",
        "    previous_score = 0\n",
        "    for epoch in range(steps):\n",
        "        score_matrix = (1-damping) + damping * np.dot(matrix_list[index], score_matrix)\n",
        "        if abs(previous_score - sum(score_matrix))  < min_diff:\n",
        "            break\n",
        "        else:\n",
        "            previous_score = sum(score_matrix)\n",
        "    score_matrix_list.append(score_matrix)\n",
        "  return score_matrix_list"
      ]
    },
    {
      "cell_type": "code",
      "execution_count": null,
      "metadata": {
        "id": "TepJQeOGhvGn"
      },
      "outputs": [],
      "source": [
        "# Get weight for each node\n",
        "def get_weight(score_matrix_list, vocab_list):\n",
        "  node_weight_list = []\n",
        "  for general_index, vocab in enumerate(vocab_list):\n",
        "    node_weight = dict()\n",
        "    for word, word_index in vocab.items():\n",
        "        node_weight[word] = score_matrix_list[general_index][word_index]\n",
        "    node_weight_list.append(node_weight)\n",
        "  return node_weight_list"
      ]
    },
    {
      "cell_type": "code",
      "execution_count": null,
      "metadata": {
        "id": "OaJtH9ch9Ahj"
      },
      "outputs": [],
      "source": [
        "def get_keywords(node_weight_list):\n",
        "  keywords_dict = {}\n",
        "  for node_weight in node_weight_list:\n",
        "    for key, value in node_weight.items():\n",
        "      if key in keywords_dict.keys():\n",
        "        keywords_dict[key] += value\n",
        "      else:\n",
        "        keywords_dict[key] = value\n",
        "    # Ordena os itens do dicionário por valor (matriz de adjacência) em ordem decrescente\n",
        "    keywords_dict = dict(sorted(keywords_dict.items(), key=lambda x: x[1], reverse=True))\n",
        "  return keywords_dict"
      ]
    },
    {
      "cell_type": "markdown",
      "source": [
        "# Utilizando as funções"
      ],
      "metadata": {
        "id": "5DWoEw1JlYZ6"
      }
    },
    {
      "cell_type": "code",
      "execution_count": null,
      "metadata": {
        "id": "o1LH-1RE0qMT"
      },
      "outputs": [],
      "source": [
        "#Criar vocabulário\n",
        "vocab_list = get_vocab(df_depressed['clean_text'])"
      ]
    },
    {
      "cell_type": "code",
      "execution_count": null,
      "metadata": {
        "id": "GaOMmqF8YZKT"
      },
      "outputs": [],
      "source": [
        "#Criar pares de coocorrencia\n",
        "tokens_list = get_token_pairs(5, df_depressed['clean_text'])"
      ]
    },
    {
      "cell_type": "code",
      "execution_count": null,
      "metadata": {
        "id": "UemAM-Vnd7on"
      },
      "outputs": [],
      "source": [
        "#Criar matriz de similaridade\n",
        "matrix_list = get_matrix(vocab_list, tokens_list)"
      ]
    },
    {
      "cell_type": "code",
      "execution_count": null,
      "metadata": {
        "id": "b6Wgv9ZrN_qG"
      },
      "outputs": [],
      "source": [
        "#Iteração de pesos dos vértices\n",
        "steps = 10\n",
        "damping = 0.85 # damping coefficient, usually is .85\n",
        "min_diff = 1e-5 # convergence threshold\n",
        "score_matrix_list = epoch_interation(vocab_list, matrix_list, steps, damping, min_diff)"
      ]
    },
    {
      "cell_type": "code",
      "execution_count": null,
      "metadata": {
        "id": "hEGhzkYeSvAa"
      },
      "outputs": [],
      "source": [
        "#Coleta dos pesos dos vértices anexados a palavra por texto\n",
        "node_weight_list = get_weight(score_matrix_list, vocab_list)"
      ]
    },
    {
      "cell_type": "code",
      "execution_count": null,
      "metadata": {
        "id": "9BoJlOUQeLCi"
      },
      "outputs": [],
      "source": [
        "#Soma da probabilidade de relevancia de todas as palavras iguais de todos os textos\n",
        "keywords_dict = get_keywords(node_weight_list)"
      ]
    },
    {
      "cell_type": "code",
      "source": [
        "len(keywords_dict)"
      ],
      "metadata": {
        "colab": {
          "base_uri": "https://localhost:8080/"
        },
        "id": "7vAQ0M5jnTWg",
        "outputId": "c2237506-44bd-4cdd-c97e-ce344bf21d79"
      },
      "execution_count": null,
      "outputs": [
        {
          "output_type": "execute_result",
          "data": {
            "text/plain": [
              "4283"
            ]
          },
          "metadata": {},
          "execution_count": 19
        }
      ]
    },
    {
      "cell_type": "markdown",
      "source": [
        "# Grounded theory"
      ],
      "metadata": {
        "id": "vQlb97bRzb-x"
      }
    },
    {
      "cell_type": "code",
      "source": [
        "#Retirar palavras do dicionario\n",
        "def remove_words(dictionary, not_words):\n",
        "    return {key: value for key, value in dictionary.items() if key not in not_words}"
      ],
      "metadata": {
        "id": "H4yTOwRusGuy"
      },
      "execution_count": null,
      "outputs": []
    },
    {
      "cell_type": "code",
      "execution_count": null,
      "metadata": {
        "id": "kFGPJDH9b3hu"
      },
      "outputs": [],
      "source": [
        "#Pegar as palavras com os 100 maiores valores\n",
        "def top_values(keywords_dict, number):\n",
        "    # Use a função sorted para classificar o dicionário com base nos valores em ordem decrescente\n",
        "    sorted_itens = sorted(keywords_dict.items(), key=lambda x: x[1], reverse=True)\n",
        "\n",
        "    # Pegue os cem primeiros pares chave-valor\n",
        "    top_words = sorted_itens[:number]\n",
        "\n",
        "    # Converta a lista de pares em um novo dicionário\n",
        "    top_dict = dict(top_words)\n",
        "\n",
        "    return top_dict"
      ]
    },
    {
      "cell_type": "code",
      "source": [
        "not_words = ['primeiro', 'segundo', 'mesmo', 'situação', 'coisa', 'fato', 'vez', 'grande', 'pequeno', 'ponto', 'sao', 'voce',\n",
        "             'carar', 'causa', 'motivo', 'cabecar']\n",
        "keywords_dict = remove_words(keywords_dict, not_words)"
      ],
      "metadata": {
        "id": "J5PXL781syRu"
      },
      "execution_count": null,
      "outputs": []
    },
    {
      "cell_type": "code",
      "source": [
        "top_keywords = top_values(keywords_dict, 100)"
      ],
      "metadata": {
        "id": "W23DKor-164_"
      },
      "execution_count": null,
      "outputs": []
    },
    {
      "cell_type": "code",
      "execution_count": null,
      "metadata": {
        "colab": {
          "base_uri": "https://localhost:8080/",
          "height": 70
        },
        "id": "dybnOtsYkIbY",
        "outputId": "e7afe0a8-159d-4095-80de-d4570821a3c7"
      },
      "outputs": [
        {
          "output_type": "execute_result",
          "data": {
            "text/plain": [
              "'#Alternativa: pegar só palavras com frequência acima de x desvios padrão\\n\\nmean = np.mean(list(freq_dict.values()))\\nstd = np.std(list(freq_dict.values()))\\n\\nprint(mean,std)\\n\\nthreshold = mean+4*std\\n\\nfreq_words = []\\nfor word, freq in freq_dict.items():\\n  if freq > threshold:\\n    freq_words.append(word)\\n\\nfreq_keywords = list(set(freq_words) & set(keywords_list))'"
            ],
            "application/vnd.google.colaboratory.intrinsic+json": {
              "type": "string"
            }
          },
          "metadata": {},
          "execution_count": 24
        }
      ],
      "source": [
        "'''#Alternativa: pegar só palavras com frequência acima de x desvios padrão\n",
        "\n",
        "mean = np.mean(list(freq_dict.values()))\n",
        "std = np.std(list(freq_dict.values()))\n",
        "\n",
        "print(mean,std)\n",
        "\n",
        "threshold = mean+4*std\n",
        "\n",
        "freq_words = []\n",
        "for word, freq in freq_dict.items():\n",
        "  if freq > threshold:\n",
        "    freq_words.append(word)\n",
        "\n",
        "freq_keywords = list(set(freq_words) & set(keywords_list))'''"
      ]
    },
    {
      "cell_type": "code",
      "source": [
        "top_keywords.keys()"
      ],
      "metadata": {
        "colab": {
          "base_uri": "https://localhost:8080/"
        },
        "id": "RNXzxoNMAn0a",
        "outputId": "c660b463-ee04-4e26-bb76-863861146725"
      },
      "execution_count": null,
      "outputs": [
        {
          "output_type": "execute_result",
          "data": {
            "text/plain": [
              "dict_keys(['dia', 'pessoa', 'vida', 'ano', 'tempo', 'pai', 'bom', 'casa', 'amigo', 'gente', 'problema', 'trabalho', 'Mundo', 'momento', 'novo', 'hora', 'mulher', 'semana', 'medo', 'forma', 'relacionamento', 'consigo', 'mau', 'mês', 'feliz', 'dinheiro', 'Escola', 'vontade', 'lugar', 'homem', 'dor', 'atra', 'mensagem', 'noite', 'situacao', 'Faculdade', 'corpo', 'dificil', 'ruim', 'verdade', 'sentimento', 'final', 'irmao', 'desabafo', 'voltar', 'filho', 'foto', 'historio', 'depressao', 'lar', 'conversa', 'ansiedade', 'amig', 'passado', 'sozinho', 'emprego', 'unico', 'jeito', 'social', 'garota', 'diferente', 'feio', 'pessoal', 'desculpa', 'fim', 'poder', 'normal', 'crianca', 'amor', 'quarto', 'falta', 'terapia', 'amizade', 'possivel', 'contato', 'varia', 'amo', 'pau', 'ideiar', 'sozinha', 'odeio', 'junto', 'vergonha', 'cheio', 'lembro', 'raiva', 'idade', 'experiencia', 'olho', 'legal', 'serio', 'velho', 'preciso', 'fisico', 'medico', 'ultimo', 'assunto', 'jogo', 'estranho', 'longo'])"
            ]
          },
          "metadata": {},
          "execution_count": 25
        }
      ]
    },
    {
      "cell_type": "code",
      "source": [
        "#'vida', 'bom',  'coisa',  'vez', 'carar', 'problema',  'Mundo',  'novo', 'grande', 'forma',  'consigo', 'mau', 'mesmo',  'lugar',   'primeiro', 'pequeno', 'causa', 'atra',  'voce', 'fato', 'situacao', 'ruim', 'motivo', 'verdade', 'desabafo', 'voltar',  'ponto', 'foto', 'historio', 'depressao', 'ansiedade', 'unico', 'jeito',  'diferente',  'pessoal',  'poder', 'normal', 'quarto', , 'terapia',  'possivel',  'varia',  'ideia', 'junto' , 'lembro',"
      ],
      "metadata": {
        "id": "paXyqCI0q_hk"
      },
      "execution_count": null,
      "outputs": []
    },
    {
      "cell_type": "code",
      "source": [
        "tempo = ['dia', 'ano', 'tempo', 'momento', 'hora', 'semana', 'mês', 'passado', 'segundo', 'noite', 'fim', 'final', 'idade', 'ultimo']\n",
        "familia = ['pai', 'casa', 'relacionamento', 'irmao', 'filho', 'lar', 'crianca']\n",
        "labor_sustento = ['trabalho', 'Escola', 'Faculdade', 'emprego', 'dinheiro']\n",
        "corpo_fisico = ['cabecar', 'dor', 'corpo', 'feio', 'pau', 'fisico', 'medico', 'velho']\n",
        "relacionamentos = ['pessoa', 'amigo', 'amig', 'gente','relacionamento', 'conversa', 'social', 'garota','amor', 'amizade', 'contato', 'homem', 'mulher', 'mensagem']\n",
        "emocoes = ['raiva', 'vergonha', 'sozinha', 'sozinho', 'desculpa', 'odeio', 'amo', 'sentimento', 'feliz', 'medo', 'vontade','falta', 'dificil', 'cheio', 'preciso']"
      ],
      "metadata": {
        "id": "ZYRYGcTBqtqE"
      },
      "execution_count": null,
      "outputs": []
    },
    {
      "cell_type": "code",
      "source": [
        "categorys_dict = {'tempo': tempo, 'familia': familia, 'labor_sustento' : labor_sustento, 'corpo_fisico' : corpo_fisico, 'relacionamentos':relacionamentos}"
      ],
      "metadata": {
        "id": "9uTaCDril6dC"
      },
      "execution_count": null,
      "outputs": []
    },
    {
      "cell_type": "code",
      "source": [
        "# Selecionar textos com as palavras da categoria escolhida\n",
        "def category_split(df, column, categorys_dict):\n",
        "  category_dfs = {}\n",
        "  for category, words_list in categorys_dict.items():\n",
        "    print(category)\n",
        "    df_category = pd.DataFrame()\n",
        "    for index, clean_text in enumerate(df[column]):\n",
        "      for word in words_list:\n",
        "        if word in clean_text and index not in df_category.index:\n",
        "         # print(word)\n",
        "          df_category = pd.concat([df_category, df.iloc[index:]])\n",
        "          break\n",
        "\n",
        "    category_dfs[category] = df_category\n",
        "  return category_dfs"
      ],
      "metadata": {
        "id": "JgPszqr6UjyR"
      },
      "execution_count": null,
      "outputs": []
    },
    {
      "cell_type": "code",
      "source": [
        "categorys_dfs = category_split(df_depressed, 'full_text', categorys_dict)"
      ],
      "metadata": {
        "colab": {
          "base_uri": "https://localhost:8080/"
        },
        "id": "LaEnHqaPmPiM",
        "outputId": "5988611d-c84f-4083-ed6a-2a7d364ad8d2"
      },
      "execution_count": null,
      "outputs": [
        {
          "output_type": "stream",
          "name": "stdout",
          "text": [
            "tempo\n",
            "familia\n",
            "labor_sustento\n",
            "corpo_fisico\n",
            "relacionamentos\n"
          ]
        }
      ]
    },
    {
      "cell_type": "code",
      "source": [
        "list(categorys_dfs.values())[0]['selftext']"
      ],
      "metadata": {
        "colab": {
          "base_uri": "https://localhost:8080/"
        },
        "id": "OPj_W5geuuOz",
        "outputId": "c04843ca-213f-4432-dbb8-4d2756979770"
      },
      "execution_count": null,
      "outputs": [
        {
          "output_type": "execute_result",
          "data": {
            "text/plain": [
              "0      Olá, meu nome é Gabriel, tenho 18 anos e moro ...\n",
              "1      Em 2019 reencontrei minha primeira namorada, v...\n",
              "2      Sou médico anestesista, trabalho na linha de f...\n",
              "3      Sexo é vida, né? Acho que todos que leram algu...\n",
              "4      Eu já vi alguns desabafos aqui sobre a clássic...\n",
              "                             ...                        \n",
              "262    sempre fui magro e bonitinho, nunca o mais lin...\n",
              "263     as pessoas se aproximam, curiosas, atentas, e...\n",
              "264    ontem em uma festa tive uma recaída muito gran...\n",
              "265     Velho, estou com umas tretas psicológicas, es...\n",
              "266    Boa noite pessoal, me chamo Rafael, tenho 18 a...\n",
              "Name: selftext, Length: 267, dtype: object"
            ]
          },
          "metadata": {},
          "execution_count": 44
        }
      ]
    },
    {
      "cell_type": "code",
      "source": [
        "len(df_depressed)"
      ],
      "metadata": {
        "colab": {
          "base_uri": "https://localhost:8080/"
        },
        "id": "aentyM491FEZ",
        "outputId": "681e9c4c-19d6-4e9a-d421-7e8b677958da"
      },
      "execution_count": null,
      "outputs": [
        {
          "output_type": "execute_result",
          "data": {
            "text/plain": [
              "267"
            ]
          },
          "metadata": {},
          "execution_count": 71
        }
      ]
    },
    {
      "cell_type": "code",
      "source": [
        "categorys_dfs['labor_sustento'].head(2)"
      ],
      "metadata": {
        "colab": {
          "base_uri": "https://localhost:8080/",
          "height": 147
        },
        "id": "IJeZ4vFq1MmM",
        "outputId": "9cf1eebe-0335-454e-9f86-9b7a9f4816da"
      },
      "execution_count": null,
      "outputs": [
        {
          "output_type": "execute_result",
          "data": {
            "text/plain": [
              "   coments       created         id  \\\n",
              "1    808.0  1.658598e+09  t3_w69jxb   \n",
              "2    148.0  1.616290e+09  t3_m9l8o0   \n",
              "\n",
              "                                            selftext  \\\n",
              "1  Em 2019 reencontrei minha primeira namorada, v...   \n",
              "2  Sou médico anestesista, trabalho na linha de f...   \n",
              "\n",
              "                                               title      up  \\\n",
              "1         Meu casamento me destruiu financeiramente.  1558.0   \n",
              "2  Sabe o real motivo pelo qual você deveria fica...  1517.0   \n",
              "\n",
              "                                           full_text  qtd_term  \\\n",
              "1  ['meu', 'casamento', 'me', 'destruiu', 'financ...         6   \n",
              "2  ['sabe', 'o', 'real', 'motivo', 'pelo', 'qual'...         7   \n",
              "\n",
              "                                          clean_text  \n",
              "1  [casamento, primeiro, ano, relacionamento, pat...  \n",
              "2  [Real, motivo, casa, medico, anestesisto, trab...  "
            ],
            "text/html": [
              "\n",
              "  <div id=\"df-d404b3ec-1d04-47c3-8dec-8438c95c286b\" class=\"colab-df-container\">\n",
              "    <div>\n",
              "<style scoped>\n",
              "    .dataframe tbody tr th:only-of-type {\n",
              "        vertical-align: middle;\n",
              "    }\n",
              "\n",
              "    .dataframe tbody tr th {\n",
              "        vertical-align: top;\n",
              "    }\n",
              "\n",
              "    .dataframe thead th {\n",
              "        text-align: right;\n",
              "    }\n",
              "</style>\n",
              "<table border=\"1\" class=\"dataframe\">\n",
              "  <thead>\n",
              "    <tr style=\"text-align: right;\">\n",
              "      <th></th>\n",
              "      <th>coments</th>\n",
              "      <th>created</th>\n",
              "      <th>id</th>\n",
              "      <th>selftext</th>\n",
              "      <th>title</th>\n",
              "      <th>up</th>\n",
              "      <th>full_text</th>\n",
              "      <th>qtd_term</th>\n",
              "      <th>clean_text</th>\n",
              "    </tr>\n",
              "  </thead>\n",
              "  <tbody>\n",
              "    <tr>\n",
              "      <th>1</th>\n",
              "      <td>808.0</td>\n",
              "      <td>1.658598e+09</td>\n",
              "      <td>t3_w69jxb</td>\n",
              "      <td>Em 2019 reencontrei minha primeira namorada, v...</td>\n",
              "      <td>Meu casamento me destruiu financeiramente.</td>\n",
              "      <td>1558.0</td>\n",
              "      <td>['meu', 'casamento', 'me', 'destruiu', 'financ...</td>\n",
              "      <td>6</td>\n",
              "      <td>[casamento, primeiro, ano, relacionamento, pat...</td>\n",
              "    </tr>\n",
              "    <tr>\n",
              "      <th>2</th>\n",
              "      <td>148.0</td>\n",
              "      <td>1.616290e+09</td>\n",
              "      <td>t3_m9l8o0</td>\n",
              "      <td>Sou médico anestesista, trabalho na linha de f...</td>\n",
              "      <td>Sabe o real motivo pelo qual você deveria fica...</td>\n",
              "      <td>1517.0</td>\n",
              "      <td>['sabe', 'o', 'real', 'motivo', 'pelo', 'qual'...</td>\n",
              "      <td>7</td>\n",
              "      <td>[Real, motivo, casa, medico, anestesisto, trab...</td>\n",
              "    </tr>\n",
              "  </tbody>\n",
              "</table>\n",
              "</div>\n",
              "    <div class=\"colab-df-buttons\">\n",
              "\n",
              "  <div class=\"colab-df-container\">\n",
              "    <button class=\"colab-df-convert\" onclick=\"convertToInteractive('df-d404b3ec-1d04-47c3-8dec-8438c95c286b')\"\n",
              "            title=\"Convert this dataframe to an interactive table.\"\n",
              "            style=\"display:none;\">\n",
              "\n",
              "  <svg xmlns=\"http://www.w3.org/2000/svg\" height=\"24px\" viewBox=\"0 -960 960 960\">\n",
              "    <path d=\"M120-120v-720h720v720H120Zm60-500h600v-160H180v160Zm220 220h160v-160H400v160Zm0 220h160v-160H400v160ZM180-400h160v-160H180v160Zm440 0h160v-160H620v160ZM180-180h160v-160H180v160Zm440 0h160v-160H620v160Z\"/>\n",
              "  </svg>\n",
              "    </button>\n",
              "\n",
              "  <style>\n",
              "    .colab-df-container {\n",
              "      display:flex;\n",
              "      gap: 12px;\n",
              "    }\n",
              "\n",
              "    .colab-df-convert {\n",
              "      background-color: #E8F0FE;\n",
              "      border: none;\n",
              "      border-radius: 50%;\n",
              "      cursor: pointer;\n",
              "      display: none;\n",
              "      fill: #1967D2;\n",
              "      height: 32px;\n",
              "      padding: 0 0 0 0;\n",
              "      width: 32px;\n",
              "    }\n",
              "\n",
              "    .colab-df-convert:hover {\n",
              "      background-color: #E2EBFA;\n",
              "      box-shadow: 0px 1px 2px rgba(60, 64, 67, 0.3), 0px 1px 3px 1px rgba(60, 64, 67, 0.15);\n",
              "      fill: #174EA6;\n",
              "    }\n",
              "\n",
              "    .colab-df-buttons div {\n",
              "      margin-bottom: 4px;\n",
              "    }\n",
              "\n",
              "    [theme=dark] .colab-df-convert {\n",
              "      background-color: #3B4455;\n",
              "      fill: #D2E3FC;\n",
              "    }\n",
              "\n",
              "    [theme=dark] .colab-df-convert:hover {\n",
              "      background-color: #434B5C;\n",
              "      box-shadow: 0px 1px 3px 1px rgba(0, 0, 0, 0.15);\n",
              "      filter: drop-shadow(0px 1px 2px rgba(0, 0, 0, 0.3));\n",
              "      fill: #FFFFFF;\n",
              "    }\n",
              "  </style>\n",
              "\n",
              "    <script>\n",
              "      const buttonEl =\n",
              "        document.querySelector('#df-d404b3ec-1d04-47c3-8dec-8438c95c286b button.colab-df-convert');\n",
              "      buttonEl.style.display =\n",
              "        google.colab.kernel.accessAllowed ? 'block' : 'none';\n",
              "\n",
              "      async function convertToInteractive(key) {\n",
              "        const element = document.querySelector('#df-d404b3ec-1d04-47c3-8dec-8438c95c286b');\n",
              "        const dataTable =\n",
              "          await google.colab.kernel.invokeFunction('convertToInteractive',\n",
              "                                                    [key], {});\n",
              "        if (!dataTable) return;\n",
              "\n",
              "        const docLinkHtml = 'Like what you see? Visit the ' +\n",
              "          '<a target=\"_blank\" href=https://colab.research.google.com/notebooks/data_table.ipynb>data table notebook</a>'\n",
              "          + ' to learn more about interactive tables.';\n",
              "        element.innerHTML = '';\n",
              "        dataTable['output_type'] = 'display_data';\n",
              "        await google.colab.output.renderOutput(dataTable, element);\n",
              "        const docLink = document.createElement('div');\n",
              "        docLink.innerHTML = docLinkHtml;\n",
              "        element.appendChild(docLink);\n",
              "      }\n",
              "    </script>\n",
              "  </div>\n",
              "\n",
              "\n",
              "<div id=\"df-fbb290a1-699a-4622-bc3d-be14f4f57275\">\n",
              "  <button class=\"colab-df-quickchart\" onclick=\"quickchart('df-fbb290a1-699a-4622-bc3d-be14f4f57275')\"\n",
              "            title=\"Suggest charts.\"\n",
              "            style=\"display:none;\">\n",
              "\n",
              "<svg xmlns=\"http://www.w3.org/2000/svg\" height=\"24px\"viewBox=\"0 0 24 24\"\n",
              "     width=\"24px\">\n",
              "    <g>\n",
              "        <path d=\"M19 3H5c-1.1 0-2 .9-2 2v14c0 1.1.9 2 2 2h14c1.1 0 2-.9 2-2V5c0-1.1-.9-2-2-2zM9 17H7v-7h2v7zm4 0h-2V7h2v10zm4 0h-2v-4h2v4z\"/>\n",
              "    </g>\n",
              "</svg>\n",
              "  </button>\n",
              "\n",
              "<style>\n",
              "  .colab-df-quickchart {\n",
              "      --bg-color: #E8F0FE;\n",
              "      --fill-color: #1967D2;\n",
              "      --hover-bg-color: #E2EBFA;\n",
              "      --hover-fill-color: #174EA6;\n",
              "      --disabled-fill-color: #AAA;\n",
              "      --disabled-bg-color: #DDD;\n",
              "  }\n",
              "\n",
              "  [theme=dark] .colab-df-quickchart {\n",
              "      --bg-color: #3B4455;\n",
              "      --fill-color: #D2E3FC;\n",
              "      --hover-bg-color: #434B5C;\n",
              "      --hover-fill-color: #FFFFFF;\n",
              "      --disabled-bg-color: #3B4455;\n",
              "      --disabled-fill-color: #666;\n",
              "  }\n",
              "\n",
              "  .colab-df-quickchart {\n",
              "    background-color: var(--bg-color);\n",
              "    border: none;\n",
              "    border-radius: 50%;\n",
              "    cursor: pointer;\n",
              "    display: none;\n",
              "    fill: var(--fill-color);\n",
              "    height: 32px;\n",
              "    padding: 0;\n",
              "    width: 32px;\n",
              "  }\n",
              "\n",
              "  .colab-df-quickchart:hover {\n",
              "    background-color: var(--hover-bg-color);\n",
              "    box-shadow: 0 1px 2px rgba(60, 64, 67, 0.3), 0 1px 3px 1px rgba(60, 64, 67, 0.15);\n",
              "    fill: var(--button-hover-fill-color);\n",
              "  }\n",
              "\n",
              "  .colab-df-quickchart-complete:disabled,\n",
              "  .colab-df-quickchart-complete:disabled:hover {\n",
              "    background-color: var(--disabled-bg-color);\n",
              "    fill: var(--disabled-fill-color);\n",
              "    box-shadow: none;\n",
              "  }\n",
              "\n",
              "  .colab-df-spinner {\n",
              "    border: 2px solid var(--fill-color);\n",
              "    border-color: transparent;\n",
              "    border-bottom-color: var(--fill-color);\n",
              "    animation:\n",
              "      spin 1s steps(1) infinite;\n",
              "  }\n",
              "\n",
              "  @keyframes spin {\n",
              "    0% {\n",
              "      border-color: transparent;\n",
              "      border-bottom-color: var(--fill-color);\n",
              "      border-left-color: var(--fill-color);\n",
              "    }\n",
              "    20% {\n",
              "      border-color: transparent;\n",
              "      border-left-color: var(--fill-color);\n",
              "      border-top-color: var(--fill-color);\n",
              "    }\n",
              "    30% {\n",
              "      border-color: transparent;\n",
              "      border-left-color: var(--fill-color);\n",
              "      border-top-color: var(--fill-color);\n",
              "      border-right-color: var(--fill-color);\n",
              "    }\n",
              "    40% {\n",
              "      border-color: transparent;\n",
              "      border-right-color: var(--fill-color);\n",
              "      border-top-color: var(--fill-color);\n",
              "    }\n",
              "    60% {\n",
              "      border-color: transparent;\n",
              "      border-right-color: var(--fill-color);\n",
              "    }\n",
              "    80% {\n",
              "      border-color: transparent;\n",
              "      border-right-color: var(--fill-color);\n",
              "      border-bottom-color: var(--fill-color);\n",
              "    }\n",
              "    90% {\n",
              "      border-color: transparent;\n",
              "      border-bottom-color: var(--fill-color);\n",
              "    }\n",
              "  }\n",
              "</style>\n",
              "\n",
              "  <script>\n",
              "    async function quickchart(key) {\n",
              "      const quickchartButtonEl =\n",
              "        document.querySelector('#' + key + ' button');\n",
              "      quickchartButtonEl.disabled = true;  // To prevent multiple clicks.\n",
              "      quickchartButtonEl.classList.add('colab-df-spinner');\n",
              "      try {\n",
              "        const charts = await google.colab.kernel.invokeFunction(\n",
              "            'suggestCharts', [key], {});\n",
              "      } catch (error) {\n",
              "        console.error('Error during call to suggestCharts:', error);\n",
              "      }\n",
              "      quickchartButtonEl.classList.remove('colab-df-spinner');\n",
              "      quickchartButtonEl.classList.add('colab-df-quickchart-complete');\n",
              "    }\n",
              "    (() => {\n",
              "      let quickchartButtonEl =\n",
              "        document.querySelector('#df-fbb290a1-699a-4622-bc3d-be14f4f57275 button');\n",
              "      quickchartButtonEl.style.display =\n",
              "        google.colab.kernel.accessAllowed ? 'block' : 'none';\n",
              "    })();\n",
              "  </script>\n",
              "</div>\n",
              "    </div>\n",
              "  </div>\n"
            ]
          },
          "metadata": {},
          "execution_count": 75
        }
      ]
    },
    {
      "cell_type": "code",
      "source": [
        "print(f\"tempo: {len(categorys_dfs['tempo'])} \\n familia: {len(categorys_dfs['familia'])} \\n labor_sustento: {len(categorys_dfs['labor_sustento'])} \\n corpo_fisico: {len(categorys_dfs['corpo_fisico'])} \\n relacionamentos: {len(categorys_dfs['relacionamentos'])}\")"
      ],
      "metadata": {
        "colab": {
          "base_uri": "https://localhost:8080/"
        },
        "id": "UmH2Wm8fmfia",
        "outputId": "0820e52c-301a-48f6-d6d9-633f3a852918"
      },
      "execution_count": null,
      "outputs": [
        {
          "output_type": "stream",
          "name": "stdout",
          "text": [
            "tempo: 267 \n",
            " familia: 267 \n",
            " labor_sustento: 266 \n",
            " corpo_fisico: 266 \n",
            " relacionamentos: 267\n"
          ]
        }
      ]
    },
    {
      "cell_type": "code",
      "source": [
        "node_weight_list = {key:value for key, value in node_weight_list.items() if key in labor_sustento}\n",
        "vocab_list =\n",
        "top_keywords ="
      ],
      "metadata": {
        "id": "sXIK_YiEZL4R"
      },
      "execution_count": null,
      "outputs": []
    },
    {
      "cell_type": "code",
      "source": [
        "top_keywords"
      ],
      "metadata": {
        "colab": {
          "base_uri": "https://localhost:8080/"
        },
        "id": "VjgEtfn3Z3zL",
        "outputId": "3e413aae-cc9d-47fa-ec2d-4caa2c693f3c"
      },
      "execution_count": null,
      "outputs": [
        {
          "output_type": "execute_result",
          "data": {
            "text/plain": [
              "{'dia': 269.4153725467066,\n",
              " 'pessoa': 253.42214268320498,\n",
              " 'vida': 248.26766402087813,\n",
              " 'ano': 239.10590178135686,\n",
              " 'tempo': 183.42903263377303,\n",
              " 'pai': 181.51430241149916,\n",
              " 'bom': 159.00524916399974,\n",
              " 'casa': 157.9766026794519,\n",
              " 'amigo': 128.98729265140355,\n",
              " 'gente': 123.41614541409359,\n",
              " 'problema': 98.07886790196807,\n",
              " 'trabalho': 89.71480822303022,\n",
              " 'Mundo': 85.87177471761144,\n",
              " 'momento': 85.83615398780232,\n",
              " 'novo': 85.77237930200576,\n",
              " 'hora': 80.05660096797115,\n",
              " 'mulher': 75.18147132987283,\n",
              " 'semana': 70.84455041468738,\n",
              " 'medo': 70.83284026467796,\n",
              " 'forma': 69.11422714155903,\n",
              " 'relacionamento': 68.8522271560703,\n",
              " 'consigo': 68.04821851846313,\n",
              " 'mau': 65.54546612630368,\n",
              " 'mês': 61.09796679930442,\n",
              " 'feliz': 60.181916029915435,\n",
              " 'dinheiro': 59.62542185259543,\n",
              " 'Escola': 59.07342861198516,\n",
              " 'vontade': 55.54395213996569,\n",
              " 'lugar': 52.71565171966456,\n",
              " 'homem': 52.565754359769166,\n",
              " 'dor': 51.12894043443313,\n",
              " 'atra': 47.73104608888582,\n",
              " 'mensagem': 47.4739600639507,\n",
              " 'noite': 46.753664802037186,\n",
              " 'situacao': 46.57310076716086,\n",
              " 'Faculdade': 45.92497521195495,\n",
              " 'corpo': 45.34062291836239,\n",
              " 'dificil': 45.17256948595902,\n",
              " 'ruim': 43.92738066457423,\n",
              " 'verdade': 42.769434690221225,\n",
              " 'sentimento': 41.361580484327824,\n",
              " 'final': 40.85632541340079,\n",
              " 'irmao': 40.773265971288964,\n",
              " 'desabafo': 40.61197474345457,\n",
              " 'voltar': 39.74681509192175,\n",
              " 'filho': 39.47235305282924,\n",
              " 'foto': 39.06984288843009,\n",
              " 'historio': 38.967267047254886,\n",
              " 'depressao': 38.88440173979898,\n",
              " 'lar': 38.708617737111936,\n",
              " 'conversa': 38.376648648728136,\n",
              " 'ansiedade': 38.3655001397202,\n",
              " 'amig': 38.05158474790799,\n",
              " 'passado': 37.684183323867686,\n",
              " 'sozinho': 37.66015236942305,\n",
              " 'emprego': 37.619619509797396,\n",
              " 'unico': 36.856524213046704,\n",
              " 'jeito': 36.22698594567019,\n",
              " 'social': 35.13772919611071,\n",
              " 'garota': 34.117105303292284,\n",
              " 'diferente': 34.11202827695753,\n",
              " 'feio': 33.60108706860578,\n",
              " 'pessoal': 33.32122528395706,\n",
              " 'desculpa': 32.855904351917594,\n",
              " 'fim': 32.46952554482695,\n",
              " 'poder': 32.441855817109385,\n",
              " 'normal': 32.13370166934131,\n",
              " 'crianca': 31.755760027165163,\n",
              " 'amor': 31.696489952409166,\n",
              " 'quarto': 31.544823737026768,\n",
              " 'falta': 31.466205323550227,\n",
              " 'terapia': 30.433865311286866,\n",
              " 'amizade': 29.807095573290646,\n",
              " 'possivel': 29.629303242018075,\n",
              " 'contato': 29.408701933622098,\n",
              " 'varia': 29.243103423351833,\n",
              " 'amo': 29.081606618977546,\n",
              " 'pau': 29.06898169680899,\n",
              " 'ideiar': 29.032797784889855,\n",
              " 'sozinha': 28.888593458578466,\n",
              " 'odeio': 28.796427089045835,\n",
              " 'junto': 28.774797701941772,\n",
              " 'vergonha': 28.417625794171208,\n",
              " 'cheio': 28.362572629309533,\n",
              " 'lembro': 27.9889414808108,\n",
              " 'raiva': 27.783471971114256,\n",
              " 'idade': 27.389098064095307,\n",
              " 'experiencia': 27.074323544650202,\n",
              " 'olho': 26.988567870342752,\n",
              " 'legal': 26.65574736112398,\n",
              " 'serio': 26.309673247006124,\n",
              " 'velho': 26.125156084940485,\n",
              " 'preciso': 26.06003118641636,\n",
              " 'fisico': 26.0049599705142,\n",
              " 'medico': 26.000156987559002,\n",
              " 'ultimo': 25.553220252126668,\n",
              " 'assunto': 25.513484117837013,\n",
              " 'jogo': 25.478539237990713,\n",
              " 'estranho': 25.319958548753547,\n",
              " 'longo': 25.015777415645967}"
            ]
          },
          "metadata": {},
          "execution_count": 47
        }
      ]
    },
    {
      "cell_type": "code",
      "source": [
        "df_category"
      ],
      "metadata": {
        "colab": {
          "base_uri": "https://localhost:8080/",
          "height": 597
        },
        "id": "5OcZZ1H6X6-t",
        "outputId": "417620b9-aa94-47ec-9095-6402a8d63f19"
      },
      "execution_count": null,
      "outputs": [
        {
          "output_type": "execute_result",
          "data": {
            "text/plain": [
              "     coments       created          id  \\\n",
              "0      118.0  1.610661e+09   t3_kxfnzb   \n",
              "0      118.0  1.610661e+09   t3_kxfnzb   \n",
              "0      118.0  1.610661e+09   t3_kxfnzb   \n",
              "0      118.0  1.610661e+09   t3_kxfnzb   \n",
              "1      808.0  1.658598e+09   t3_w69jxb   \n",
              "..       ...           ...         ...   \n",
              "257      5.0  1.680473e+09  t3_129zrrk   \n",
              "258      1.0  1.680490e+09  t3_12a7749   \n",
              "259      2.0  1.680489e+09  t3_12a6mqy   \n",
              "260      1.0  1.680488e+09  t3_12a6gb2   \n",
              "261      0.0  1.680486e+09  t3_12a5pii   \n",
              "\n",
              "                                              selftext  \\\n",
              "0    Olá, meu nome é Gabriel, tenho 18 anos e moro ...   \n",
              "0    Olá, meu nome é Gabriel, tenho 18 anos e moro ...   \n",
              "0    Olá, meu nome é Gabriel, tenho 18 anos e moro ...   \n",
              "0    Olá, meu nome é Gabriel, tenho 18 anos e moro ...   \n",
              "1    Em 2019 reencontrei minha primeira namorada, v...   \n",
              "..                                                 ...   \n",
              "257   \\n\\nOi gente, tudo bem? Bom...Sou apenas uma ...   \n",
              "258  Eu desde criança sempre fui muito responsável ...   \n",
              "259  Eu não aguento mais, não aguento viver nesse c...   \n",
              "260  \\nEntão pessoal, 4 meses atrás conheci essa me...   \n",
              "261  Um parente meu faleceu hoje, era alguém que co...   \n",
              "\n",
              "                                                 title      up  \\\n",
              "0           Hoje é o dia mais sombrio da minha cidade.  1850.0   \n",
              "0           Hoje é o dia mais sombrio da minha cidade.  1850.0   \n",
              "0           Hoje é o dia mais sombrio da minha cidade.  1850.0   \n",
              "0           Hoje é o dia mais sombrio da minha cidade.  1850.0   \n",
              "1           Meu casamento me destruiu financeiramente.  1558.0   \n",
              "..                                                 ...     ...   \n",
              "257                   Histórias Tristes De Aniversário     3.0   \n",
              "258  Estou cansado de me esforçar por quem não me d...     1.0   \n",
              "259                                          Desabafo:     1.0   \n",
              "260                                 Término Traumático     1.0   \n",
              "261                        Uma vida perdida por stress     1.0   \n",
              "\n",
              "                                             full_text  qtd_term  \\\n",
              "0    ['hoje', 'e', 'o', 'dia', 'mais', 'sombrio', '...         6   \n",
              "0    ['hoje', 'e', 'o', 'dia', 'mais', 'sombrio', '...         6   \n",
              "0    ['hoje', 'e', 'o', 'dia', 'mais', 'sombrio', '...         6   \n",
              "0    ['hoje', 'e', 'o', 'dia', 'mais', 'sombrio', '...         6   \n",
              "1    ['meu', 'casamento', 'me', 'destruiu', 'financ...         6   \n",
              "..                                                 ...       ...   \n",
              "257  ['historias', 'tristes', 'de', 'aniversario', ...         7   \n",
              "258  ['estou', 'cansado', 'de', 'me', 'esforcar', '...        18   \n",
              "259  ['desabafo', '', 'eu', 'nao', 'aguento', 'mais...         7   \n",
              "260  ['termino', 'traumatico', '', 'entao', 'pessoa...        11   \n",
              "261  ['uma', 'vida', 'perdida', 'por', 'stress', 'u...         6   \n",
              "\n",
              "                                            clean_text  \n",
              "0    [dia, sombrio, cidade, nome, ano, morar, manau...  \n",
              "0    [dia, sombrio, cidade, nome, ano, morar, manau...  \n",
              "0    [dia, sombrio, cidade, nome, ano, morar, manau...  \n",
              "0    [dia, sombrio, cidade, nome, ano, morar, manau...  \n",
              "1    [casamento, primeiro, ano, relacionamento, pat...  \n",
              "..                                                 ...  \n",
              "257  [historia, triste, aniversario, gente, bom, am...  \n",
              "258  [valor, humilha, crianca, responsavel, ano, id...  \n",
              "259  [desabafo, aguentar, aguentar, corpo, poder, p...  \n",
              "260  [traumatico, pessoal, mês, atra, Menina, bumbl...  \n",
              "261  [vida, stress, parente, vida, ataque, Cardiaco...  \n",
              "\n",
              "[28561 rows x 9 columns]"
            ],
            "text/html": [
              "\n",
              "  <div id=\"df-976eb067-15ac-434b-b9af-3e3b739087f4\" class=\"colab-df-container\">\n",
              "    <div>\n",
              "<style scoped>\n",
              "    .dataframe tbody tr th:only-of-type {\n",
              "        vertical-align: middle;\n",
              "    }\n",
              "\n",
              "    .dataframe tbody tr th {\n",
              "        vertical-align: top;\n",
              "    }\n",
              "\n",
              "    .dataframe thead th {\n",
              "        text-align: right;\n",
              "    }\n",
              "</style>\n",
              "<table border=\"1\" class=\"dataframe\">\n",
              "  <thead>\n",
              "    <tr style=\"text-align: right;\">\n",
              "      <th></th>\n",
              "      <th>coments</th>\n",
              "      <th>created</th>\n",
              "      <th>id</th>\n",
              "      <th>selftext</th>\n",
              "      <th>title</th>\n",
              "      <th>up</th>\n",
              "      <th>full_text</th>\n",
              "      <th>qtd_term</th>\n",
              "      <th>clean_text</th>\n",
              "    </tr>\n",
              "  </thead>\n",
              "  <tbody>\n",
              "    <tr>\n",
              "      <th>0</th>\n",
              "      <td>118.0</td>\n",
              "      <td>1.610661e+09</td>\n",
              "      <td>t3_kxfnzb</td>\n",
              "      <td>Olá, meu nome é Gabriel, tenho 18 anos e moro ...</td>\n",
              "      <td>Hoje é o dia mais sombrio da minha cidade.</td>\n",
              "      <td>1850.0</td>\n",
              "      <td>['hoje', 'e', 'o', 'dia', 'mais', 'sombrio', '...</td>\n",
              "      <td>6</td>\n",
              "      <td>[dia, sombrio, cidade, nome, ano, morar, manau...</td>\n",
              "    </tr>\n",
              "    <tr>\n",
              "      <th>0</th>\n",
              "      <td>118.0</td>\n",
              "      <td>1.610661e+09</td>\n",
              "      <td>t3_kxfnzb</td>\n",
              "      <td>Olá, meu nome é Gabriel, tenho 18 anos e moro ...</td>\n",
              "      <td>Hoje é o dia mais sombrio da minha cidade.</td>\n",
              "      <td>1850.0</td>\n",
              "      <td>['hoje', 'e', 'o', 'dia', 'mais', 'sombrio', '...</td>\n",
              "      <td>6</td>\n",
              "      <td>[dia, sombrio, cidade, nome, ano, morar, manau...</td>\n",
              "    </tr>\n",
              "    <tr>\n",
              "      <th>0</th>\n",
              "      <td>118.0</td>\n",
              "      <td>1.610661e+09</td>\n",
              "      <td>t3_kxfnzb</td>\n",
              "      <td>Olá, meu nome é Gabriel, tenho 18 anos e moro ...</td>\n",
              "      <td>Hoje é o dia mais sombrio da minha cidade.</td>\n",
              "      <td>1850.0</td>\n",
              "      <td>['hoje', 'e', 'o', 'dia', 'mais', 'sombrio', '...</td>\n",
              "      <td>6</td>\n",
              "      <td>[dia, sombrio, cidade, nome, ano, morar, manau...</td>\n",
              "    </tr>\n",
              "    <tr>\n",
              "      <th>0</th>\n",
              "      <td>118.0</td>\n",
              "      <td>1.610661e+09</td>\n",
              "      <td>t3_kxfnzb</td>\n",
              "      <td>Olá, meu nome é Gabriel, tenho 18 anos e moro ...</td>\n",
              "      <td>Hoje é o dia mais sombrio da minha cidade.</td>\n",
              "      <td>1850.0</td>\n",
              "      <td>['hoje', 'e', 'o', 'dia', 'mais', 'sombrio', '...</td>\n",
              "      <td>6</td>\n",
              "      <td>[dia, sombrio, cidade, nome, ano, morar, manau...</td>\n",
              "    </tr>\n",
              "    <tr>\n",
              "      <th>1</th>\n",
              "      <td>808.0</td>\n",
              "      <td>1.658598e+09</td>\n",
              "      <td>t3_w69jxb</td>\n",
              "      <td>Em 2019 reencontrei minha primeira namorada, v...</td>\n",
              "      <td>Meu casamento me destruiu financeiramente.</td>\n",
              "      <td>1558.0</td>\n",
              "      <td>['meu', 'casamento', 'me', 'destruiu', 'financ...</td>\n",
              "      <td>6</td>\n",
              "      <td>[casamento, primeiro, ano, relacionamento, pat...</td>\n",
              "    </tr>\n",
              "    <tr>\n",
              "      <th>...</th>\n",
              "      <td>...</td>\n",
              "      <td>...</td>\n",
              "      <td>...</td>\n",
              "      <td>...</td>\n",
              "      <td>...</td>\n",
              "      <td>...</td>\n",
              "      <td>...</td>\n",
              "      <td>...</td>\n",
              "      <td>...</td>\n",
              "    </tr>\n",
              "    <tr>\n",
              "      <th>257</th>\n",
              "      <td>5.0</td>\n",
              "      <td>1.680473e+09</td>\n",
              "      <td>t3_129zrrk</td>\n",
              "      <td>\\n\\nOi gente, tudo bem? Bom...Sou apenas uma ...</td>\n",
              "      <td>Histórias Tristes De Aniversário</td>\n",
              "      <td>3.0</td>\n",
              "      <td>['historias', 'tristes', 'de', 'aniversario', ...</td>\n",
              "      <td>7</td>\n",
              "      <td>[historia, triste, aniversario, gente, bom, am...</td>\n",
              "    </tr>\n",
              "    <tr>\n",
              "      <th>258</th>\n",
              "      <td>1.0</td>\n",
              "      <td>1.680490e+09</td>\n",
              "      <td>t3_12a7749</td>\n",
              "      <td>Eu desde criança sempre fui muito responsável ...</td>\n",
              "      <td>Estou cansado de me esforçar por quem não me d...</td>\n",
              "      <td>1.0</td>\n",
              "      <td>['estou', 'cansado', 'de', 'me', 'esforcar', '...</td>\n",
              "      <td>18</td>\n",
              "      <td>[valor, humilha, crianca, responsavel, ano, id...</td>\n",
              "    </tr>\n",
              "    <tr>\n",
              "      <th>259</th>\n",
              "      <td>2.0</td>\n",
              "      <td>1.680489e+09</td>\n",
              "      <td>t3_12a6mqy</td>\n",
              "      <td>Eu não aguento mais, não aguento viver nesse c...</td>\n",
              "      <td>Desabafo:</td>\n",
              "      <td>1.0</td>\n",
              "      <td>['desabafo', '', 'eu', 'nao', 'aguento', 'mais...</td>\n",
              "      <td>7</td>\n",
              "      <td>[desabafo, aguentar, aguentar, corpo, poder, p...</td>\n",
              "    </tr>\n",
              "    <tr>\n",
              "      <th>260</th>\n",
              "      <td>1.0</td>\n",
              "      <td>1.680488e+09</td>\n",
              "      <td>t3_12a6gb2</td>\n",
              "      <td>\\nEntão pessoal, 4 meses atrás conheci essa me...</td>\n",
              "      <td>Término Traumático</td>\n",
              "      <td>1.0</td>\n",
              "      <td>['termino', 'traumatico', '', 'entao', 'pessoa...</td>\n",
              "      <td>11</td>\n",
              "      <td>[traumatico, pessoal, mês, atra, Menina, bumbl...</td>\n",
              "    </tr>\n",
              "    <tr>\n",
              "      <th>261</th>\n",
              "      <td>0.0</td>\n",
              "      <td>1.680486e+09</td>\n",
              "      <td>t3_12a5pii</td>\n",
              "      <td>Um parente meu faleceu hoje, era alguém que co...</td>\n",
              "      <td>Uma vida perdida por stress</td>\n",
              "      <td>1.0</td>\n",
              "      <td>['uma', 'vida', 'perdida', 'por', 'stress', 'u...</td>\n",
              "      <td>6</td>\n",
              "      <td>[vida, stress, parente, vida, ataque, Cardiaco...</td>\n",
              "    </tr>\n",
              "  </tbody>\n",
              "</table>\n",
              "<p>28561 rows × 9 columns</p>\n",
              "</div>\n",
              "    <div class=\"colab-df-buttons\">\n",
              "\n",
              "  <div class=\"colab-df-container\">\n",
              "    <button class=\"colab-df-convert\" onclick=\"convertToInteractive('df-976eb067-15ac-434b-b9af-3e3b739087f4')\"\n",
              "            title=\"Convert this dataframe to an interactive table.\"\n",
              "            style=\"display:none;\">\n",
              "\n",
              "  <svg xmlns=\"http://www.w3.org/2000/svg\" height=\"24px\" viewBox=\"0 -960 960 960\">\n",
              "    <path d=\"M120-120v-720h720v720H120Zm60-500h600v-160H180v160Zm220 220h160v-160H400v160Zm0 220h160v-160H400v160ZM180-400h160v-160H180v160Zm440 0h160v-160H620v160ZM180-180h160v-160H180v160Zm440 0h160v-160H620v160Z\"/>\n",
              "  </svg>\n",
              "    </button>\n",
              "\n",
              "  <style>\n",
              "    .colab-df-container {\n",
              "      display:flex;\n",
              "      gap: 12px;\n",
              "    }\n",
              "\n",
              "    .colab-df-convert {\n",
              "      background-color: #E8F0FE;\n",
              "      border: none;\n",
              "      border-radius: 50%;\n",
              "      cursor: pointer;\n",
              "      display: none;\n",
              "      fill: #1967D2;\n",
              "      height: 32px;\n",
              "      padding: 0 0 0 0;\n",
              "      width: 32px;\n",
              "    }\n",
              "\n",
              "    .colab-df-convert:hover {\n",
              "      background-color: #E2EBFA;\n",
              "      box-shadow: 0px 1px 2px rgba(60, 64, 67, 0.3), 0px 1px 3px 1px rgba(60, 64, 67, 0.15);\n",
              "      fill: #174EA6;\n",
              "    }\n",
              "\n",
              "    .colab-df-buttons div {\n",
              "      margin-bottom: 4px;\n",
              "    }\n",
              "\n",
              "    [theme=dark] .colab-df-convert {\n",
              "      background-color: #3B4455;\n",
              "      fill: #D2E3FC;\n",
              "    }\n",
              "\n",
              "    [theme=dark] .colab-df-convert:hover {\n",
              "      background-color: #434B5C;\n",
              "      box-shadow: 0px 1px 3px 1px rgba(0, 0, 0, 0.15);\n",
              "      filter: drop-shadow(0px 1px 2px rgba(0, 0, 0, 0.3));\n",
              "      fill: #FFFFFF;\n",
              "    }\n",
              "  </style>\n",
              "\n",
              "    <script>\n",
              "      const buttonEl =\n",
              "        document.querySelector('#df-976eb067-15ac-434b-b9af-3e3b739087f4 button.colab-df-convert');\n",
              "      buttonEl.style.display =\n",
              "        google.colab.kernel.accessAllowed ? 'block' : 'none';\n",
              "\n",
              "      async function convertToInteractive(key) {\n",
              "        const element = document.querySelector('#df-976eb067-15ac-434b-b9af-3e3b739087f4');\n",
              "        const dataTable =\n",
              "          await google.colab.kernel.invokeFunction('convertToInteractive',\n",
              "                                                    [key], {});\n",
              "        if (!dataTable) return;\n",
              "\n",
              "        const docLinkHtml = 'Like what you see? Visit the ' +\n",
              "          '<a target=\"_blank\" href=https://colab.research.google.com/notebooks/data_table.ipynb>data table notebook</a>'\n",
              "          + ' to learn more about interactive tables.';\n",
              "        element.innerHTML = '';\n",
              "        dataTable['output_type'] = 'display_data';\n",
              "        await google.colab.output.renderOutput(dataTable, element);\n",
              "        const docLink = document.createElement('div');\n",
              "        docLink.innerHTML = docLinkHtml;\n",
              "        element.appendChild(docLink);\n",
              "      }\n",
              "    </script>\n",
              "  </div>\n",
              "\n",
              "\n",
              "<div id=\"df-fadf37e6-be83-4b63-bef6-9a3faae5e1c6\">\n",
              "  <button class=\"colab-df-quickchart\" onclick=\"quickchart('df-fadf37e6-be83-4b63-bef6-9a3faae5e1c6')\"\n",
              "            title=\"Suggest charts.\"\n",
              "            style=\"display:none;\">\n",
              "\n",
              "<svg xmlns=\"http://www.w3.org/2000/svg\" height=\"24px\"viewBox=\"0 0 24 24\"\n",
              "     width=\"24px\">\n",
              "    <g>\n",
              "        <path d=\"M19 3H5c-1.1 0-2 .9-2 2v14c0 1.1.9 2 2 2h14c1.1 0 2-.9 2-2V5c0-1.1-.9-2-2-2zM9 17H7v-7h2v7zm4 0h-2V7h2v10zm4 0h-2v-4h2v4z\"/>\n",
              "    </g>\n",
              "</svg>\n",
              "  </button>\n",
              "\n",
              "<style>\n",
              "  .colab-df-quickchart {\n",
              "      --bg-color: #E8F0FE;\n",
              "      --fill-color: #1967D2;\n",
              "      --hover-bg-color: #E2EBFA;\n",
              "      --hover-fill-color: #174EA6;\n",
              "      --disabled-fill-color: #AAA;\n",
              "      --disabled-bg-color: #DDD;\n",
              "  }\n",
              "\n",
              "  [theme=dark] .colab-df-quickchart {\n",
              "      --bg-color: #3B4455;\n",
              "      --fill-color: #D2E3FC;\n",
              "      --hover-bg-color: #434B5C;\n",
              "      --hover-fill-color: #FFFFFF;\n",
              "      --disabled-bg-color: #3B4455;\n",
              "      --disabled-fill-color: #666;\n",
              "  }\n",
              "\n",
              "  .colab-df-quickchart {\n",
              "    background-color: var(--bg-color);\n",
              "    border: none;\n",
              "    border-radius: 50%;\n",
              "    cursor: pointer;\n",
              "    display: none;\n",
              "    fill: var(--fill-color);\n",
              "    height: 32px;\n",
              "    padding: 0;\n",
              "    width: 32px;\n",
              "  }\n",
              "\n",
              "  .colab-df-quickchart:hover {\n",
              "    background-color: var(--hover-bg-color);\n",
              "    box-shadow: 0 1px 2px rgba(60, 64, 67, 0.3), 0 1px 3px 1px rgba(60, 64, 67, 0.15);\n",
              "    fill: var(--button-hover-fill-color);\n",
              "  }\n",
              "\n",
              "  .colab-df-quickchart-complete:disabled,\n",
              "  .colab-df-quickchart-complete:disabled:hover {\n",
              "    background-color: var(--disabled-bg-color);\n",
              "    fill: var(--disabled-fill-color);\n",
              "    box-shadow: none;\n",
              "  }\n",
              "\n",
              "  .colab-df-spinner {\n",
              "    border: 2px solid var(--fill-color);\n",
              "    border-color: transparent;\n",
              "    border-bottom-color: var(--fill-color);\n",
              "    animation:\n",
              "      spin 1s steps(1) infinite;\n",
              "  }\n",
              "\n",
              "  @keyframes spin {\n",
              "    0% {\n",
              "      border-color: transparent;\n",
              "      border-bottom-color: var(--fill-color);\n",
              "      border-left-color: var(--fill-color);\n",
              "    }\n",
              "    20% {\n",
              "      border-color: transparent;\n",
              "      border-left-color: var(--fill-color);\n",
              "      border-top-color: var(--fill-color);\n",
              "    }\n",
              "    30% {\n",
              "      border-color: transparent;\n",
              "      border-left-color: var(--fill-color);\n",
              "      border-top-color: var(--fill-color);\n",
              "      border-right-color: var(--fill-color);\n",
              "    }\n",
              "    40% {\n",
              "      border-color: transparent;\n",
              "      border-right-color: var(--fill-color);\n",
              "      border-top-color: var(--fill-color);\n",
              "    }\n",
              "    60% {\n",
              "      border-color: transparent;\n",
              "      border-right-color: var(--fill-color);\n",
              "    }\n",
              "    80% {\n",
              "      border-color: transparent;\n",
              "      border-right-color: var(--fill-color);\n",
              "      border-bottom-color: var(--fill-color);\n",
              "    }\n",
              "    90% {\n",
              "      border-color: transparent;\n",
              "      border-bottom-color: var(--fill-color);\n",
              "    }\n",
              "  }\n",
              "</style>\n",
              "\n",
              "  <script>\n",
              "    async function quickchart(key) {\n",
              "      const quickchartButtonEl =\n",
              "        document.querySelector('#' + key + ' button');\n",
              "      quickchartButtonEl.disabled = true;  // To prevent multiple clicks.\n",
              "      quickchartButtonEl.classList.add('colab-df-spinner');\n",
              "      try {\n",
              "        const charts = await google.colab.kernel.invokeFunction(\n",
              "            'suggestCharts', [key], {});\n",
              "      } catch (error) {\n",
              "        console.error('Error during call to suggestCharts:', error);\n",
              "      }\n",
              "      quickchartButtonEl.classList.remove('colab-df-spinner');\n",
              "      quickchartButtonEl.classList.add('colab-df-quickchart-complete');\n",
              "    }\n",
              "    (() => {\n",
              "      let quickchartButtonEl =\n",
              "        document.querySelector('#df-fadf37e6-be83-4b63-bef6-9a3faae5e1c6 button');\n",
              "      quickchartButtonEl.style.display =\n",
              "        google.colab.kernel.accessAllowed ? 'block' : 'none';\n",
              "    })();\n",
              "  </script>\n",
              "</div>\n",
              "    </div>\n",
              "  </div>\n"
            ]
          },
          "metadata": {},
          "execution_count": 42
        }
      ]
    },
    {
      "cell_type": "code",
      "execution_count": null,
      "metadata": {
        "id": "HIQncRHgkrcG"
      },
      "outputs": [],
      "source": [
        "import matplotlib.pyplot as plt\n",
        "import networkx as nx\n",
        "from collections import OrderedDict\n",
        "\n",
        "def plot_graph(node_weight_list, vocab_list, keywords_list):\n",
        "    G = nx.Graph()\n",
        "\n",
        "    # Cria um dicionário para associar cada palavra ao seu peso médio\n",
        "    # (Dani): Se colocar o if word in keywords list antes das coisas, você só vai prpecisar calcular pesos em quem de fato vai ser plotado!\n",
        "    word_weight_dict = {}\n",
        "    for node_weight in node_weight_list:\n",
        "        for word, weight_array in node_weight.items():\n",
        "            # Calcula a média dos pesos para atribuir ao nó\n",
        "            weight = sum(weight_array) / len(weight_array)\n",
        "            word_weight_dict[word] = weight\n",
        "            if word in keywords_list:\n",
        "                G.add_node(word, weight=weight)\n",
        "\n",
        "    # Adiciona as arestas com base no vocab_list\n",
        "    for vocab_dict in vocab_list:\n",
        "        for word, _ in vocab_dict.items():\n",
        "            if word in G.nodes():\n",
        "                G.add_edge(list(vocab_dict.keys())[0], word)\n",
        "\n",
        "    # Obtém as posições dos nós para o layout do grafo\n",
        "    pos = nx.spring_layout(G)\n",
        "\n",
        "    # Obtém os pesos dos nós para atribuir ao tamanho dos nós no gráfico\n",
        "    node_weights = nx.get_node_attributes(G, 'weight')\n",
        "    node_sizes = [10000 * word_weight_dict[word] for word in G.nodes()]\n",
        "\n",
        "    # Desenha os nós e arestas do grafo\n",
        "    plt.figure(figsize=(20, 20))\n",
        "    nx.draw(G, pos, with_labels=True, node_size=node_sizes, font_size=8)\n",
        "    plt.show()\n"
      ]
    },
    {
      "cell_type": "code",
      "execution_count": null,
      "metadata": {
        "colab": {
          "base_uri": "https://localhost:8080/",
          "height": 176
        },
        "id": "TfpOz4LFbcky",
        "outputId": "b805e16f-e41f-4e8f-f52b-c012d72eb79d"
      },
      "outputs": [
        {
          "output_type": "error",
          "ename": "NameError",
          "evalue": "ignored",
          "traceback": [
            "\u001b[0;31m---------------------------------------------------------------------------\u001b[0m",
            "\u001b[0;31mNameError\u001b[0m                                 Traceback (most recent call last)",
            "\u001b[0;32m<ipython-input-26-a6274fe27a72>\u001b[0m in \u001b[0;36m<cell line: 1>\u001b[0;34m()\u001b[0m\n\u001b[0;32m----> 1\u001b[0;31m \u001b[0mplot_graph\u001b[0m\u001b[0;34m(\u001b[0m\u001b[0mnode_weight_list\u001b[0m\u001b[0;34m,\u001b[0m \u001b[0mvocab_list\u001b[0m\u001b[0;34m,\u001b[0m \u001b[0mfreq_keywords\u001b[0m\u001b[0;34m)\u001b[0m\u001b[0;34m\u001b[0m\u001b[0;34m\u001b[0m\u001b[0m\n\u001b[0m",
            "\u001b[0;31mNameError\u001b[0m: name 'freq_keywords' is not defined"
          ]
        }
      ],
      "source": [
        "plot_graph(node_weight_list, vocab_list, freq_keywords)"
      ]
    },
    {
      "cell_type": "code",
      "execution_count": null,
      "metadata": {
        "id": "5E0ilNrMWxme"
      },
      "outputs": [],
      "source": []
    }
  ],
  "metadata": {
    "colab": {
      "provenance": []
    },
    "kernelspec": {
      "display_name": "Python 3",
      "name": "python3"
    },
    "language_info": {
      "name": "python"
    }
  },
  "nbformat": 4,
  "nbformat_minor": 0
}